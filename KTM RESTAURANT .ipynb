{
 "cells": [
  {
   "cell_type": "code",
   "execution_count": 6,
   "metadata": {},
   "outputs": [
    {
     "name": "stderr",
     "output_type": "stream",
     "text": [
      "usage: conda-script.py [-h] [-V] command ...\n",
      "conda-script.py: error: unrecognized arguments: # uncomment this line if you haven't completed the Foursquare API lab\n"
     ]
    },
    {
     "name": "stdout",
     "output_type": "stream",
     "text": [
      "Libraries imported.\n"
     ]
    }
   ],
   "source": [
    "import numpy as np # library to handle data in a vectorized manner\n",
    "import time\n",
    "import pandas as pd # library for data analsysis\n",
    "pd.set_option('display.max_columns', None)\n",
    "pd.set_option('display.max_rows', None)\n",
    "\n",
    "import json # library to handle JSON files\n",
    "import requests # library to handle requests\n",
    "from pandas.io.json import json_normalize # tranform JSON file into a pandas dataframe\n",
    "\n",
    "from geopy.geocoders import Nominatim # convert an address into latitude and longitude values\n",
    "!conda install -c conda-forge folium=0.5.0 --yes # uncomment this line if you haven't completed the Foursquare API lab\n",
    "import folium # map rendering library\n",
    "\n",
    "print('Libraries imported.')"
   ]
  },
  {
   "cell_type": "code",
   "execution_count": 8,
   "metadata": {},
   "outputs": [
    {
     "name": "stderr",
     "output_type": "stream",
     "text": [
      "C:\\ProgramData\\Anaconda3\\lib\\site-packages\\ipykernel_launcher.py:5: DeprecationWarning: Using Nominatim with the default \"geopy/1.20.0\" `user_agent` is strongly discouraged, as it violates Nominatim's ToS https://operations.osmfoundation.org/policies/nominatim/ and may possibly cause 403 and 429 HTTP errors. Please specify a custom `user_agent` with `Nominatim(user_agent=\"my-application\")` or by overriding the default `user_agent`: `geopy.geocoders.options.default_user_agent = \"my-application\"`. In geopy 2.0 this will become an exception.\n",
      "  \"\"\"\n"
     ]
    },
    {
     "name": "stdout",
     "output_type": "stream",
     "text": [
      "The geograpical coordinate of Kathmandu home are 27.708796, 85.320244.\n"
     ]
    }
   ],
   "source": [
    "address = 'Kathmandu'\n",
    "\n",
    "geolocator = Nominatim()\n",
    "location = geolocator.geocode(address)\n",
    "latitude = location.latitude\n",
    "longitude = location.longitude\n",
    "print('The geograpical coordinate of Kathmandu home are {}, {}.'.format(latitude, longitude))"
   ]
  },
  {
   "cell_type": "code",
   "execution_count": 9,
   "metadata": {},
   "outputs": [],
   "source": [
    "neighborhood_latitude=27.708796\n",
    "neighborhood_longitude=85.320244"
   ]
  },
  {
   "cell_type": "code",
   "execution_count": 31,
   "metadata": {},
   "outputs": [],
   "source": [
    "# this code is hidden"
   ]
  },
  {
   "cell_type": "code",
   "execution_count": 13,
   "metadata": {},
   "outputs": [
    {
     "data": {
      "text/plain": [
       "'https://api.foursquare.com/v2/venues/explore?&client_id=4SI10TK5EOCE5AICIM552JZG5FMXSHVIX2QSA33OGIKSIGEP&client_secret=KDEH01RHUIX2OBGGVY30DTU53ZASM4YSHKC3WEGAQOD3Q2HJ&v=20181102&ll=27.708796,85.320244&radius=500&limit=100'"
      ]
     },
     "execution_count": 13,
     "metadata": {},
     "output_type": "execute_result"
    }
   ],
   "source": [
    "LIMIT = 100 # limit of number of venues returned by Foursquare API\n",
    "radius = 500 # define radius\n",
    "\n",
    "# create URL\n",
    "url = 'https://api.foursquare.com/v2/venues/explore?&client_id={}&client_secret={}&v={}&ll={},{}&radius={}&limit={}'.format(\n",
    "    CLIENT_ID, \n",
    "    CLIENT_SECRET, \n",
    "    VERSION, \n",
    "    neighborhood_latitude, \n",
    "    neighborhood_longitude, \n",
    "    radius, \n",
    "    LIMIT)\n",
    "url # display URL"
   ]
  },
  {
   "cell_type": "code",
   "execution_count": 14,
   "metadata": {},
   "outputs": [],
   "source": [
    "results = requests.get(url).json()"
   ]
  },
  {
   "cell_type": "code",
   "execution_count": 15,
   "metadata": {},
   "outputs": [],
   "source": [
    "\n",
    "# function that extracts the category of the venue\n",
    "def get_category_type(row):\n",
    "    try:\n",
    "        categories_list = row['categories']\n",
    "    except:\n",
    "        categories_list = row['venue.categories']\n",
    "        \n",
    "    if len(categories_list) == 0:\n",
    "        return None\n",
    "    else:\n",
    "        return categories_list[0]['name']"
   ]
  },
  {
   "cell_type": "code",
   "execution_count": 23,
   "metadata": {},
   "outputs": [
    {
     "data": {
      "text/html": [
       "<div>\n",
       "<style scoped>\n",
       "    .dataframe tbody tr th:only-of-type {\n",
       "        vertical-align: middle;\n",
       "    }\n",
       "\n",
       "    .dataframe tbody tr th {\n",
       "        vertical-align: top;\n",
       "    }\n",
       "\n",
       "    .dataframe thead th {\n",
       "        text-align: right;\n",
       "    }\n",
       "</style>\n",
       "<table border=\"1\" class=\"dataframe\">\n",
       "  <thead>\n",
       "    <tr style=\"text-align: right;\">\n",
       "      <th></th>\n",
       "      <th>name</th>\n",
       "      <th>categories</th>\n",
       "      <th>lat</th>\n",
       "      <th>lng</th>\n",
       "    </tr>\n",
       "  </thead>\n",
       "  <tbody>\n",
       "    <tr>\n",
       "      <th>0</th>\n",
       "      <td>Dallé Restaurant</td>\n",
       "      <td>Restaurant</td>\n",
       "      <td>27.710031</td>\n",
       "      <td>85.319937</td>\n",
       "    </tr>\n",
       "    <tr>\n",
       "      <th>1</th>\n",
       "      <td>Sam's One Tree Cafe</td>\n",
       "      <td>Gastropub</td>\n",
       "      <td>27.710416</td>\n",
       "      <td>85.317260</td>\n",
       "    </tr>\n",
       "    <tr>\n",
       "      <th>2</th>\n",
       "      <td>nanglo Cafe &amp; Pub</td>\n",
       "      <td>Restaurant</td>\n",
       "      <td>27.707925</td>\n",
       "      <td>85.318777</td>\n",
       "    </tr>\n",
       "    <tr>\n",
       "      <th>3</th>\n",
       "      <td>Coffee Talk Nepal</td>\n",
       "      <td>Coffee Shop</td>\n",
       "      <td>27.709976</td>\n",
       "      <td>85.322235</td>\n",
       "    </tr>\n",
       "    <tr>\n",
       "      <th>4</th>\n",
       "      <td>Hotel Yak &amp; Yeti</td>\n",
       "      <td>Hotel</td>\n",
       "      <td>27.711581</td>\n",
       "      <td>85.320274</td>\n",
       "    </tr>\n",
       "    <tr>\n",
       "      <th>5</th>\n",
       "      <td>Kaffeine</td>\n",
       "      <td>Coffee Shop</td>\n",
       "      <td>27.710425</td>\n",
       "      <td>85.318425</td>\n",
       "    </tr>\n",
       "    <tr>\n",
       "      <th>6</th>\n",
       "      <td>The Cake Shop</td>\n",
       "      <td>Bakery</td>\n",
       "      <td>27.711131</td>\n",
       "      <td>85.317284</td>\n",
       "    </tr>\n",
       "    <tr>\n",
       "      <th>7</th>\n",
       "      <td>Little Italy</td>\n",
       "      <td>Italian Restaurant</td>\n",
       "      <td>27.711849</td>\n",
       "      <td>85.317550</td>\n",
       "    </tr>\n",
       "    <tr>\n",
       "      <th>8</th>\n",
       "      <td>Annapurna Coffee Shop</td>\n",
       "      <td>Coffee Shop</td>\n",
       "      <td>27.711128</td>\n",
       "      <td>85.317121</td>\n",
       "    </tr>\n",
       "    <tr>\n",
       "      <th>9</th>\n",
       "      <td>Koto</td>\n",
       "      <td>Japanese Restaurant</td>\n",
       "      <td>27.711478</td>\n",
       "      <td>85.317520</td>\n",
       "    </tr>\n",
       "    <tr>\n",
       "      <th>10</th>\n",
       "      <td>De L'Annapurna Hotel</td>\n",
       "      <td>Hotel</td>\n",
       "      <td>27.711117</td>\n",
       "      <td>85.316408</td>\n",
       "    </tr>\n",
       "    <tr>\n",
       "      <th>11</th>\n",
       "      <td>Victory</td>\n",
       "      <td>Nightclub</td>\n",
       "      <td>27.712608</td>\n",
       "      <td>85.317615</td>\n",
       "    </tr>\n",
       "    <tr>\n",
       "      <th>12</th>\n",
       "      <td>Moti Mahal Delux</td>\n",
       "      <td>Indian Restaurant</td>\n",
       "      <td>27.712022</td>\n",
       "      <td>85.317416</td>\n",
       "    </tr>\n",
       "    <tr>\n",
       "      <th>13</th>\n",
       "      <td>The Bakery Cafe</td>\n",
       "      <td>Restaurant</td>\n",
       "      <td>27.709958</td>\n",
       "      <td>85.318139</td>\n",
       "    </tr>\n",
       "    <tr>\n",
       "      <th>14</th>\n",
       "      <td>Courtyard</td>\n",
       "      <td>Fast Food Restaurant</td>\n",
       "      <td>27.707543</td>\n",
       "      <td>85.322013</td>\n",
       "    </tr>\n",
       "  </tbody>\n",
       "</table>\n",
       "</div>"
      ],
      "text/plain": [
       "                     name            categories        lat        lng\n",
       "0        Dallé Restaurant            Restaurant  27.710031  85.319937\n",
       "1     Sam's One Tree Cafe             Gastropub  27.710416  85.317260\n",
       "2       nanglo Cafe & Pub            Restaurant  27.707925  85.318777\n",
       "3       Coffee Talk Nepal           Coffee Shop  27.709976  85.322235\n",
       "4        Hotel Yak & Yeti                 Hotel  27.711581  85.320274\n",
       "5                Kaffeine           Coffee Shop  27.710425  85.318425\n",
       "6           The Cake Shop                Bakery  27.711131  85.317284\n",
       "7            Little Italy    Italian Restaurant  27.711849  85.317550\n",
       "8   Annapurna Coffee Shop           Coffee Shop  27.711128  85.317121\n",
       "9                    Koto   Japanese Restaurant  27.711478  85.317520\n",
       "10   De L'Annapurna Hotel                 Hotel  27.711117  85.316408\n",
       "11                Victory             Nightclub  27.712608  85.317615\n",
       "12       Moti Mahal Delux     Indian Restaurant  27.712022  85.317416\n",
       "13        The Bakery Cafe            Restaurant  27.709958  85.318139\n",
       "14              Courtyard  Fast Food Restaurant  27.707543  85.322013"
      ]
     },
     "execution_count": 23,
     "metadata": {},
     "output_type": "execute_result"
    }
   ],
   "source": [
    "venues = results['response']['groups'][0]['items']\n",
    "    \n",
    "SGnearby_venues = json_normalize(venues) # flatten JSON\n",
    "\n",
    "# filter columns\n",
    "filtered_columns = ['venue.name', 'venue.categories', 'venue.location.lat', 'venue.location.lng']\n",
    "SGnearby_venues =SGnearby_venues.loc[:, filtered_columns]\n",
    "\n",
    "# filter the category for each row\n",
    "SGnearby_venues['venue.categories'] = SGnearby_venues.apply(get_category_type, axis=1)\n",
    "\n",
    "# clean columns\n",
    "SGnearby_venues.columns = [col.split(\".\")[-1] for col in SGnearby_venues.columns]\n",
    "\n",
    "SGnearby_venues.head(15)"
   ]
  },
  {
   "cell_type": "code",
   "execution_count": 22,
   "metadata": {},
   "outputs": [
    {
     "data": {
      "text/html": [
       "<div style=\"width:100%;\"><div style=\"position:relative;width:100%;height:0;padding-bottom:60%;\"><iframe src=\"data:text/html;charset=utf-8;base64,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\" style=\"position:absolute;width:100%;height:100%;left:0;top:0;border:none !important;\" allowfullscreen webkitallowfullscreen mozallowfullscreen></iframe></div></div>"
      ],
      "text/plain": [
       "<folium.folium.Map at 0x2abfaf8bbe0>"
      ]
     },
     "execution_count": 22,
     "metadata": {},
     "output_type": "execute_result"
    }
   ],
   "source": [
    "map_ktm = folium.Map(location=[latitude, longitude], zoom_start=20)\n",
    "\n",
    "# add markers to map\n",
    "for lat, lng, label in zip(SGnearby_venues['lat'], SGnearby_venues['lng'], SGnearby_venues['name']):\n",
    "    label = folium.Popup(label, parse_html=True)\n",
    "    folium.RegularPolygonMarker(\n",
    "        [lat, lng],\n",
    "        number_of_sides=4,\n",
    "        radius=10,\n",
    "        popup=label,\n",
    "        color='blue',\n",
    "        fill_color='#0f0f0f',\n",
    "        fill_opacity=0.7,\n",
    "    ).add_to(map_ktm)  \n",
    "    \n",
    "map_ktm"
   ]
  },
  {
   "cell_type": "code",
   "execution_count": 24,
   "metadata": {},
   "outputs": [
    {
     "name": "stdout",
     "output_type": "stream",
     "text": [
      "Thank You\n"
     ]
    }
   ],
   "source": [
    "print(\"Thank You\")"
   ]
  },
  {
   "cell_type": "markdown",
   "metadata": {},
   "source": []
  },
  {
   "cell_type": "code",
   "execution_count": null,
   "metadata": {},
   "outputs": [],
   "source": []
  },
  {
   "cell_type": "code",
   "execution_count": null,
   "metadata": {},
   "outputs": [],
   "source": []
  },
  {
   "cell_type": "code",
   "execution_count": null,
   "metadata": {},
   "outputs": [],
   "source": []
  },
  {
   "cell_type": "code",
   "execution_count": null,
   "metadata": {},
   "outputs": [],
   "source": []
  }
 ],
 "metadata": {
  "kernelspec": {
   "display_name": "Python 3",
   "language": "python",
   "name": "python3"
  },
  "language_info": {
   "codemirror_mode": {
    "name": "ipython",
    "version": 3
   },
   "file_extension": ".py",
   "mimetype": "text/x-python",
   "name": "python",
   "nbconvert_exporter": "python",
   "pygments_lexer": "ipython3",
   "version": "3.6.5"
  }
 },
 "nbformat": 4,
 "nbformat_minor": 2
}
